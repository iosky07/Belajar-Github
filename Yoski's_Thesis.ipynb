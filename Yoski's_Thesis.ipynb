{
  "cells": [
    {
      "cell_type": "markdown",
      "metadata": {
        "id": "view-in-github",
        "colab_type": "text"
      },
      "source": [
        "<a href=\"https://colab.research.google.com/github/iosky07/Belajar-Github/blob/main/Yoski's_Thesis.ipynb\" target=\"_parent\"><img src=\"https://colab.research.google.com/assets/colab-badge.svg\" alt=\"Open In Colab\"/></a>"
      ]
    },
    {
      "cell_type": "code",
      "source": [
        "import urllib.request, json\n",
        "\n",
        "url = \"https://api.themoviedb.org/3/movie/now_playing?api_key=14af5fe6136b003d0611b667f101c242&language=en-US&page=1\"\n",
        "response = urllib.request.urlopen(url)\n",
        "data = json.loads(response.read())\n",
        "print (data['results'][0]['title'])"
      ],
      "metadata": {
        "id": "OS9Zj6YR9LDf",
        "outputId": "2a69a258-957f-452c-a619-fc83e501fc0b",
        "colab": {
          "base_uri": "https://localhost:8080/"
        }
      },
      "execution_count": null,
      "outputs": [
        {
          "output_type": "stream",
          "name": "stdout",
          "text": [
            "Fantastic Beasts: The Secrets of Dumbledore\n"
          ]
        }
      ]
    },
    {
      "cell_type": "code",
      "source": [
        "import requests\n",
        "r = requests.get('https://api.themoviedb.org/3/movie/now_playing?api_key=14af5fe6136b003d0611b667f101c242&language=en-US&page=1')\n",
        "print r.json()"
      ],
      "metadata": {
        "id": "QVML1Jpr-Sij"
      },
      "execution_count": null,
      "outputs": []
    },
    {
      "cell_type": "code",
      "source": [
        "import bs4\n",
        "import urllib.request as url"
      ],
      "metadata": {
        "id": "MtwgFYSY5YG1"
      },
      "execution_count": null,
      "outputs": []
    },
    {
      "cell_type": "code",
      "source": [
        "response = url.urlopen('https://imajisociopreneur.id/id/article/1')"
      ],
      "metadata": {
        "id": "Os9vK0XL5o6y"
      },
      "execution_count": null,
      "outputs": []
    },
    {
      "cell_type": "code",
      "source": [
        "page = bs4.BeautifulSoup(response)"
      ],
      "metadata": {
        "id": "a85ZwfiO5vvQ"
      },
      "execution_count": null,
      "outputs": []
    },
    {
      "cell_type": "code",
      "source": [
        "page.find('div', class_='m-3')"
      ],
      "metadata": {
        "id": "j8YvGurd53nY",
        "colab": {
          "base_uri": "https://localhost:8080/"
        },
        "outputId": "d3b402d6-9e1b-415d-d5c5-f838c8f62609"
      },
      "execution_count": null,
      "outputs": [
        {
          "output_type": "execute_result",
          "data": {
            "text/plain": [
              "<div class=\"m-3\">\n",
              "<h1 style=\"text-align: center;padding: 10px 0\"><b>Buletin Lentera Pondok Pesantren 'Kopi' At-Tanwir</b></h1>\n",
              "</div>"
            ]
          },
          "metadata": {},
          "execution_count": 4
        }
      ]
    },
    {
      "cell_type": "code",
      "source": [
        "title = page.find('div', class_='m-3')\n",
        "title.text"
      ],
      "metadata": {
        "id": "UgWcpKVB6MuS",
        "outputId": "5057eb2c-59f2-41d8-b70d-9c951d9a8223",
        "colab": {
          "base_uri": "https://localhost:8080/",
          "height": 35
        }
      },
      "execution_count": null,
      "outputs": [
        {
          "output_type": "execute_result",
          "data": {
            "text/plain": [
              "\"\\nBuletin Lentera Pondok Pesantren 'Kopi' At-Tanwir\\n\""
            ],
            "application/vnd.google.colaboratory.intrinsic+json": {
              "type": "string"
            }
          },
          "metadata": {},
          "execution_count": 5
        }
      ]
    },
    {
      "cell_type": "code",
      "source": [
        "titleList = page.find_all('div', class_='web class name')"
      ],
      "metadata": {
        "id": "1Kf9zO1H6kHX"
      },
      "execution_count": null,
      "outputs": []
    }
  ],
  "metadata": {
    "colab": {
      "collapsed_sections": [],
      "name": "Yoski's Thesis",
      "toc_visible": true,
      "provenance": [],
      "include_colab_link": true
    },
    "kernelspec": {
      "display_name": "Python 3",
      "name": "python3"
    }
  },
  "nbformat": 4,
  "nbformat_minor": 0
}